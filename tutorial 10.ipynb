{
 "cells": [
  {
   "cell_type": "code",
   "execution_count": 3,
   "id": "5552b4b9",
   "metadata": {},
   "outputs": [],
   "source": [
    "def calculate_cdg(relevance_list):\n",
    "    cdg = 0\n",
    "    for i , rel in enumerate(relevance_list):\n",
    "        discount = 1 / (i+1)\n",
    "        cdg += (2**rel - 1) * discount \n",
    "    return cdg"
   ]
  },
  {
   "cell_type": "code",
   "execution_count": 6,
   "id": "11727db5",
   "metadata": {},
   "outputs": [],
   "source": [
    "def calculate_icdg(relevance_list):\n",
    "    sorted_rel = sorted(relevance_list , reverse = True)\n",
    "    icdg = 0\n",
    "    for i , rel in enumerate(sorted_rel):\n",
    "        discount = 1 / (i+1)\n",
    "        icdg += (2**rel - 1) * discount \n",
    "    return icdg"
   ]
  },
  {
   "cell_type": "code",
   "execution_count": 7,
   "id": "980dd20c",
   "metadata": {},
   "outputs": [
    {
     "name": "stdout",
     "output_type": "stream",
     "text": [
      "CDG: 11.533333333333331\n",
      "ICDG: 12.45\n",
      "\n",
      "### cumulative Discount Gain (CDG) Calculation: \n",
      "- Position 1: (2^3 - 1) * 1.0000\n",
      "- Position 2: (2^2 - 1) * 0.5000\n",
      "- Position 3: (2^3 - 1) * 0.3333\n",
      "- Position 4: (2^0 - 1) * 0.2500\n",
      "- Position 5: (2^1 - 1) * 0.2000\n",
      "- Position 6: (2^2 - 1) * 0.1667\n",
      "\n",
      "**CDG Result:** 11.5333\n",
      "\n",
      "### Ideal Cumulative Discount Gain (iCDG) Calculation:\n",
      "- Position 1: (2^3 - 1) * 1.0000\n",
      "- Position 2: (2^3 - 1) * 0.5000\n",
      "- Position 3: (2^2 - 1) * 0.3333\n",
      "- Position 4: (2^2 - 1) * 0.2500\n",
      "- Position 5: (2^1 - 1) * 0.2000\n",
      "- Position 6: (2^0 - 1) * 0.1667\n",
      "\n",
      "**iCDG Result:** 12.4500\n"
     ]
    }
   ],
   "source": [
    "relevance_list = [3 ,2,3,0,1,2]\n",
    "cdg_result = caculate_cdg(relevance_list)\n",
    "icdg_result = calculate_icdg(relevance_list)\n",
    "\n",
    "print(f\"CDG: {cdg_result}\")\n",
    "print(f\"ICDG: {icdg_result}\")\n",
    "\n",
    "print(\"\\n### cumulative Discount Gain (CDG) Calculation: \")\n",
    "for i , rel in enumerate(relevance_list):\n",
    "    discount = 1 / (i+1)\n",
    "    print(f\"- Position {i + 1}: (2^{rel} - 1) * {discount:.4f}\")\n",
    "\n",
    "print(f\"\\n**CDG Result:** {cdg_result:.4f}\")\n",
    "\n",
    "print(\"\\n### Ideal Cumulative Discount Gain (iCDG) Calculation:\")\n",
    "for i, rel in enumerate(sorted(relevance_list, reverse=True)):\n",
    "    discount = 1 / (i + 1) \n",
    "    print(f\"- Position {i + 1}: (2^{rel} - 1) * {discount:.4f}\")\n",
    "\n",
    "print(f\"\\n**iCDG Result:** {icdg_result:.4f}\")"
   ]
  },
  {
   "cell_type": "code",
   "execution_count": 12,
   "id": "6994e295",
   "metadata": {},
   "outputs": [
    {
     "name": "stdout",
     "output_type": "stream",
     "text": [
      "\n",
      " Interpretation:\n",
      "\n",
      " * nCDG Result: 0.9264\n",
      "1)- CDG measures the effectiveness of the information retrieval system, consid\n",
      "2)- iCDG represents the ideal scenario where the most relevant documents are r\n",
      "3)- Comparing CDG to iCDG provides insights into how well the system is perfor\n"
     ]
    }
   ],
   "source": [
    "nCDG = cdg_result / icdg_result\n",
    "print(\"\\n Interpretation:\")\n",
    "print(f\"\\n * nCDG Result: {nCDG:.4f}\")\n",
    "\n",
    "print(\"1)- CDG measures the effectiveness of the information retrieval system, consid\")\n",
    "print(\"2)- iCDG represents the ideal scenario where the most relevant documents are r\")\n",
    "print(\"3)- Comparing CDG to iCDG provides insights into how well the system is perfor\")"
   ]
  },
  {
   "cell_type": "code",
   "execution_count": 17,
   "id": "0ea4a017",
   "metadata": {},
   "outputs": [
    {
     "name": "stdout",
     "output_type": "stream",
     "text": [
      "system 2 has the best rank=  0.8768406961178046\n"
     ]
    }
   ],
   "source": [
    "system1 = [2,3,1,0,2,1]\n",
    "system2 = [3,2,2,1,0,3]\n",
    "\n",
    "nCDG_sys1 = calculate_cdg(system1)/calculate_icdg(system1)\n",
    "nCDG_sys2 = calculate_cdg(system2)/calculate_icdg(system2)\n",
    "\n",
    "if(nCDG_sys1>nCDG_sys2):\n",
    "    print(\"system 1 has the best rank = \" , nCDG_sys1)\n",
    "elif (nCDG_sys1<nCDG_sys2):\n",
    "    print(\"system 2 has the best rank= \" , nCDG_sys2)\n",
    "else:\n",
    "    print(\"the rank is the same for both system = \" , nCDG_sys1)"
   ]
  },
  {
   "cell_type": "code",
   "execution_count": null,
   "id": "afc8ffeb",
   "metadata": {},
   "outputs": [],
   "source": []
  }
 ],
 "metadata": {
  "kernelspec": {
   "display_name": "Python 3 (ipykernel)",
   "language": "python",
   "name": "python3"
  },
  "language_info": {
   "codemirror_mode": {
    "name": "ipython",
    "version": 3
   },
   "file_extension": ".py",
   "mimetype": "text/x-python",
   "name": "python",
   "nbconvert_exporter": "python",
   "pygments_lexer": "ipython3",
   "version": "3.10.9"
  }
 },
 "nbformat": 4,
 "nbformat_minor": 5
}
