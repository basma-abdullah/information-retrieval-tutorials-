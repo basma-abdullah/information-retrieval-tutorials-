{
 "cells": [
  {
   "cell_type": "code",
   "execution_count": 1,
   "id": "432e4539",
   "metadata": {},
   "outputs": [],
   "source": [
    "import numpy as np\n",
    "from sklearn.feature_extraction.text import TfidfVectorizer"
   ]
  },
  {
   "cell_type": "code",
   "execution_count": 3,
   "id": "79fa72fd",
   "metadata": {},
   "outputs": [],
   "source": [
    "documents = [\n",
    "    \"This is the first document.\",\n",
    "    \"This document is the second document.\",\n",
    "    \"And this is the third one.\",\n",
    "    \"Is this the first document?\",\n",
    "]  "
   ]
  },
  {
   "cell_type": "code",
   "execution_count": 4,
   "id": "afe50aa5",
   "metadata": {},
   "outputs": [],
   "source": [
    "vectorizer = TfidfVectorizer()\n",
    "tfidf_matrix = vectorizer.fit_transform(documents)\n",
    "\n",
    "#Get feature names (terms)\n",
    "feature_names = vectorizer.get_feature_names_out()\n",
    "\n",
    "#Convert TF-IDF matrix to a dense array for better readability\n",
    "dense_matrix = tfidf_matrix.todense()\n",
    "tfidf_array = np.asarray(dense_matrix)\n",
    "\n",
    "#Create a DataFrame for better visualization (optional)\n",
    "import pandas as pd\n",
    "df_tfidf = pd.DataFrame(data=tfidf_array, columns=feature_names)"
   ]
  },
  {
   "cell_type": "code",
   "execution_count": 5,
   "id": "1d9c4fc6",
   "metadata": {},
   "outputs": [
    {
     "name": "stdout",
     "output_type": "stream",
     "text": [
      "TF-IDF Matri:\n",
      "        and  document     first        is       one    second       the  \\\n",
      "0  0.000000  0.469791  0.580286  0.384085  0.000000  0.000000  0.384085   \n",
      "1  0.000000  0.687624  0.000000  0.281089  0.000000  0.538648  0.281089   \n",
      "2  0.511849  0.000000  0.000000  0.267104  0.511849  0.000000  0.267104   \n",
      "3  0.000000  0.469791  0.580286  0.384085  0.000000  0.000000  0.384085   \n",
      "\n",
      "      third      this  \n",
      "0  0.000000  0.384085  \n",
      "1  0.000000  0.281089  \n",
      "2  0.511849  0.267104  \n",
      "3  0.000000  0.384085  \n"
     ]
    }
   ],
   "source": [
    "print(\"TF-IDF Matri:\")\n",
    "print(df_tfidf)"
   ]
  },
  {
   "cell_type": "code",
   "execution_count": 12,
   "id": "c7191068",
   "metadata": {},
   "outputs": [
    {
     "name": "stdout",
     "output_type": "stream",
     "text": [
      "\n",
      "Most Relevant Documents:\n",
      "1. Document 2 - Similarity: 0.9504966697449269\n",
      "2. Document 4 - Similarity: 0.6042228489340653\n",
      "3. Document 1 - Similarity: 0.6042228489340653\n",
      "4. Document 3 - Similarity: 0.2803733831611419\n"
     ]
    }
   ],
   "source": [
    "query = \"This is the second document.\"\n",
    "query_vector = vectorizer.transform([query])\n",
    "\n",
    "# Calculate cosine similarity between the query and documents\n",
    "from sklearn.metrics.pairwise import cosine_similarity\n",
    "cosine_similarities = cosine_similarity(query_vector, tfidf_matrix)\n",
    "\n",
    "#Get document indices sorted by similarity\n",
    "doc_indices = np.argsort(cosine_similarities[0])[::-1]\n",
    "\n",
    "# Print the most relevant documents\n",
    "print(\"\\nMost Relevant Documents:\")\n",
    "for i, idx in enumerate(doc_indices):\n",
    "    print(f\"{i + 1}. Document {idx + 1} - Similarity: {cosine_similarities[0][idx]}\")"
   ]
  },
  {
   "cell_type": "code",
   "execution_count": 24,
   "id": "518c9cd3",
   "metadata": {},
   "outputs": [
    {
     "name": "stdout",
     "output_type": "stream",
     "text": [
      "Document 1 TF-IDF: {'this': -0.044628710262841945, 'is': -0.044628710262841945, 'the': -0.044628710262841945, 'first': 0.05753641449035617, 'document': 0.0}\n",
      "Document 2 TF-IDF: {'this': -0.03719059188570162, 'document': 0.0, 'is': -0.03719059188570162, 'the': -0.03719059188570162, 'second': 0.11552453009332421}\n",
      "Document 3 TF-IDF: {'and': 0.11552453009332421, 'this': -0.03719059188570162, 'is': -0.03719059188570162, 'the': -0.03719059188570162, 'third': 0.11552453009332421, 'one': 0.11552453009332421}\n",
      "Document 4 TF-IDF: {'is': -0.044628710262841945, 'this': -0.044628710262841945, 'the': -0.044628710262841945, 'first': 0.05753641449035617, 'document': 0.0}\n"
     ]
    }
   ],
   "source": [
    "import math\n",
    "from collections import Counter\n",
    "\n",
    "def calculate_tf(term_frequency):\n",
    "    # Calculate term frequency (TF)\n",
    "    total_terms = sum(term_frequency.values())\n",
    "    tf = {term: freq / total_terms for term, freq in term_frequency.items()}\n",
    "    return tf\n",
    "\n",
    "def calculate_idf(documents):\n",
    "    # Calculate inverse document frequency (IDF)\n",
    "    total_documents = len(documents)\n",
    "    document_frequency = Counter()\n",
    "\n",
    "    for document in documents:\n",
    "        unique_terms = set(document)\n",
    "        document_frequency.update(unique_terms)\n",
    "\n",
    "    idf = {term: math.log(total_documents / (document_frequency[term] + 1)) for term in document_frequency}\n",
    "    return idf\n",
    "\n",
    "def calculate_tfidf(documents):\n",
    "    tfidf_matrix = []\n",
    "\n",
    "    for document in documents:\n",
    "        term_frequency = Counter(document)\n",
    "        tf = calculate_tf(term_frequency)\n",
    "        idf = calculate_idf(documents)\n",
    "\n",
    "        # Calculate TF-IDF\n",
    "        tfidf = {term: tf[term] * idf[term] for term in tf}\n",
    "        tfidf_matrix.append(tfidf)\n",
    "\n",
    "    return tfidf_matrix\n",
    "\n",
    "# Example documents\n",
    "documents = [\n",
    "    [\"this\", \"is\", \"the\", \"first\", \"document\"],\n",
    "    [\"this\", \"document\", \"is\", \"the\", \"second\", \"document\"],\n",
    "    [\"and\", \"this\", \"is\", \"the\", \"third\", \"one\"],\n",
    "    [\"is\", \"this\", \"the\", \"first\", \"document\"],\n",
    "]\n",
    "\n",
    "# Calculate TF-IDF\n",
    "tfidf_result = calculate_tfidf(documents)\n",
    "\n",
    "# Display TF-IDF matrix\n",
    "for i, tfidf in enumerate(tfidf_result, start=1):\n",
    "    print(f\"Document {i} TF-IDF: {tfidf}\")"
   ]
  }
 ],
 "metadata": {
  "kernelspec": {
   "display_name": "Python 3 (ipykernel)",
   "language": "python",
   "name": "python3"
  },
  "language_info": {
   "codemirror_mode": {
    "name": "ipython",
    "version": 3
   },
   "file_extension": ".py",
   "mimetype": "text/x-python",
   "name": "python",
   "nbconvert_exporter": "python",
   "pygments_lexer": "ipython3",
   "version": "3.10.9"
  }
 },
 "nbformat": 4,
 "nbformat_minor": 5
}
