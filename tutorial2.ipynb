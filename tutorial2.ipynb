{
 "cells": [
  {
   "cell_type": "code",
   "execution_count": 1,
   "id": "6b72e0be",
   "metadata": {},
   "outputs": [
    {
     "name": "stderr",
     "output_type": "stream",
     "text": [
      "[nltk_data] Downloading package punkt to\n",
      "[nltk_data]     C:\\Users\\Admin\\AppData\\Roaming\\nltk_data...\n",
      "[nltk_data]   Package punkt is already up-to-date!\n",
      "[nltk_data] Downloading package stopwords to\n",
      "[nltk_data]     C:\\Users\\Admin\\AppData\\Roaming\\nltk_data...\n",
      "[nltk_data]   Package stopwords is already up-to-date!\n"
     ]
    },
    {
     "data": {
      "text/plain": [
       "True"
      ]
     },
     "execution_count": 1,
     "metadata": {},
     "output_type": "execute_result"
    }
   ],
   "source": [
    "import nltk\n",
    "from nltk.tokenize import word_tokenize\n",
    "from nltk.corpus import stopwords\n",
    "from nltk.stem import PorterStemmer\n",
    "nltk.download('punkt')\n",
    "nltk.download('stopwords')"
   ]
  },
  {
   "cell_type": "code",
   "execution_count": 81,
   "id": "a2078256",
   "metadata": {},
   "outputs": [],
   "source": [
    "def preprocess_document(document):\n",
    "    # Tokenize the document\n",
    "    tokens = word_tokenize(document)\n",
    "    # Remove punctuation and convert to lowercase\n",
    "    tokens = [token.lower() for token in tokens if token.isalpha()]\n",
    "    # Remove stop words\n",
    "    stop_words = set(stopwords.words('english'))\n",
    "    tokens = [token for token in tokens if token not in stop_words]\n",
    "    # Stemming\n",
    "    stemmer = PorterStemmer()\n",
    "    tokens = [stemmer.stem(token) for token in tokens]\n",
    "    \n",
    "    return tokens"
   ]
  },
  {
   "cell_type": "code",
   "execution_count": 82,
   "id": "bda462a1",
   "metadata": {},
   "outputs": [
    {
     "name": "stdout",
     "output_type": "stream",
     "text": [
      "['quick', 'brown', 'fox', 'jump', 'lazi', 'dog']\n"
     ]
    }
   ],
   "source": [
    "document = \"The quick brown fox jumps over the lazy dog\"\n",
    "print(preprocess_document(document))"
   ]
  },
  {
   "cell_type": "code",
   "execution_count": 83,
   "id": "a863ad8b",
   "metadata": {},
   "outputs": [],
   "source": [
    "def build_inverted_index (documents):\n",
    "    inverted_index = {}\n",
    "    for doc_id, document in enumerate(documents):\n",
    "        terms = preprocess_document(document)\n",
    "        for term in terms:\n",
    "            if term not in inverted_index:\n",
    "                inverted_index[term] = set()\n",
    "            inverted_index[term].add(doc_id)\n",
    "    return inverted_index"
   ]
  },
  {
   "cell_type": "code",
   "execution_count": 99,
   "id": "31933f56",
   "metadata": {},
   "outputs": [
    {
     "data": {
      "text/plain": [
       "{'sky': {0, 2},\n",
       " 'blue': {0},\n",
       " 'sun': {1, 3},\n",
       " 'bright': {1},\n",
       " 'cloudi': {2},\n",
       " 'shine': {3}}"
      ]
     },
     "execution_count": 99,
     "metadata": {},
     "output_type": "execute_result"
    }
   ],
   "source": [
    "documents = [\n",
    "    \"The sky is blue\",\n",
    "    \"The sun is bright\",\n",
    "    \"The sky is cloudy\",\n",
    "    \"The sun is shining\"]\n",
    "\n",
    "inverted_index = build_inverted_index(documents)\n",
    "inverted_index "
   ]
  },
  {
   "cell_type": "code",
   "execution_count": 110,
   "id": "63d9029c",
   "metadata": {},
   "outputs": [],
   "source": [
    "def boolean_query(query,inverted_index,documents):\n",
    "    query_terms = preprocess_document(query)\n",
    "    result = None\n",
    "    results = []\n",
    "    \n",
    "    for term in query_terms:\n",
    "        if term in inverted_index:\n",
    "            term_docs = inverted_index[term]\n",
    "            if result is None:\n",
    "                results = term_docs\n",
    "            else:\n",
    "                results = results + result.intersection(term_docs)\n",
    "\n",
    "    if results is None:\n",
    "        print(\"No documents match the query.\")\n",
    "    else:\n",
    "        print(\"Matching Documents:\")\n",
    "        for doc_id in results:\n",
    "            print(f\"- Document{doc_id}:{documents[doc_id]}\")"
   ]
  },
  {
   "cell_type": "code",
   "execution_count": 113,
   "id": "915562c7",
   "metadata": {},
   "outputs": [],
   "source": [
    "query =\"sky AND (blue OR cloudy)\""
   ]
  },
  {
   "cell_type": "code",
   "execution_count": 114,
   "id": "b2df8a66",
   "metadata": {},
   "outputs": [
    {
     "name": "stdout",
     "output_type": "stream",
     "text": [
      "Matching Documents:\n",
      "- Document2:The sky is cloudy\n"
     ]
    }
   ],
   "source": [
    "boolean_query(query ,inverted_index , documents )"
   ]
  },
  {
   "cell_type": "code",
   "execution_count": null,
   "id": "047700cc",
   "metadata": {},
   "outputs": [],
   "source": []
  }
 ],
 "metadata": {
  "kernelspec": {
   "display_name": "Python 3 (ipykernel)",
   "language": "python",
   "name": "python3"
  },
  "language_info": {
   "codemirror_mode": {
    "name": "ipython",
    "version": 3
   },
   "file_extension": ".py",
   "mimetype": "text/x-python",
   "name": "python",
   "nbconvert_exporter": "python",
   "pygments_lexer": "ipython3",
   "version": "3.10.9"
  }
 },
 "nbformat": 4,
 "nbformat_minor": 5
}
