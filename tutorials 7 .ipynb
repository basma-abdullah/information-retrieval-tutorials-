{
 "cells": [
  {
   "cell_type": "markdown",
   "id": "2b9b669d",
   "metadata": {},
   "source": [
    "### Step 1: Importing Required Libraries"
   ]
  },
  {
   "cell_type": "code",
   "execution_count": 1,
   "id": "ce283762",
   "metadata": {},
   "outputs": [],
   "source": [
    "import re\n",
    "from collections import defaultdict"
   ]
  },
  {
   "cell_type": "markdown",
   "id": "7fd85124",
   "metadata": {},
   "source": [
    "### Step 2: Implementing the Soundex Algorithm"
   ]
  },
  {
   "cell_type": "code",
   "execution_count": 45,
   "id": "26628fe1",
   "metadata": {},
   "outputs": [],
   "source": [
    "def get_soundex_code(word):\n",
    "    \n",
    "    # Step 1: Convert the word to uppercase\n",
    "    word = word.upper()\n",
    "    \n",
    "    # Step 2: Remove non-alphabetic characters\n",
    "    word = re.sub(r'[^A-Z]', '', word)\n",
    "    \n",
    "    # Step 3: Handle special cases\n",
    "    if not word:\n",
    "        return ''\n",
    "    \n",
    "    # Step 4: Encode the first letter\n",
    "    soundex_code = word[0]\n",
    "    \n",
    "    # Step 5: Replace consonants with digits\n",
    "    encoding_map = {'BFPV': '1', 'CGJKQSXZ': '2', 'DT': '3', 'L': '4', 'MN': '5', 'R': '6'}\n",
    "    for encoding, digit in encoding_map.items():\n",
    "        soundex_code += ''.join(digit if letter in encoding else '' for letter in word[1:])\n",
    "    \n",
    "    # Step 6: Remove adjacent duplicate digits\n",
    "    soundex_code = re.sub(r'(.)\\1+', r'\\1', soundex_code)\n",
    "    \n",
    "    # Step 7: Remove vowels and the encoded first letter if it appears after the first position\n",
    "    #soundex_code = soundex_code.replace(soundex_code[0], '', 1)\n",
    "    soundex_code =soundex_code[0]+re.sub(r'[AEIOUY]', '', soundex_code[1:])\n",
    "    \n",
    "    # Step 8: Pad or truncate the code to a length of 4 characters\n",
    "    soundex_code = soundex_code.ljust(4, '0')\n",
    "    soundex_code = soundex_code[:4]\n",
    "    \n",
    "    return soundex_code"
   ]
  },
  {
   "cell_type": "markdown",
   "id": "e88433bf",
   "metadata": {},
   "source": [
    "### Step 3: Building a Soundex Index"
   ]
  },
  {
   "cell_type": "code",
   "execution_count": 46,
   "id": "51ed3be2",
   "metadata": {},
   "outputs": [],
   "source": [
    "def build_soundex_index(words):\n",
    "    soundex_index = defaultdict(list)\n",
    "    for word in words:\n",
    "        soundex_code = get_soundex_code(word)\n",
    "        soundex_index[soundex_code].append(word)\n",
    "    return soundex_index"
   ]
  },
  {
   "cell_type": "markdown",
   "id": "1886ca8f",
   "metadata": {},
   "source": [
    "### Step 4: Finding Similar-Sounding Words"
   ]
  },
  {
   "cell_type": "code",
   "execution_count": 47,
   "id": "c6a9eab7",
   "metadata": {},
   "outputs": [],
   "source": [
    "def find_similar_sounding_words(query, soundex_index):\n",
    "    soundex_code = get_soundex_code(query)\n",
    "    return soundex_index[soundex_code]"
   ]
  },
  {
   "cell_type": "markdown",
   "id": "5e4cb609",
   "metadata": {},
   "source": [
    "### Step 5: Putting it All Together"
   ]
  },
  {
   "cell_type": "code",
   "execution_count": 48,
   "id": "ab087025",
   "metadata": {},
   "outputs": [
    {
     "name": "stdout",
     "output_type": "stream",
     "text": [
      "dict_items([('R136', ['Robert', 'Rupert']), ('R150', ['Rubin']), ('R100', ['Robby']), ('R130', ['Rabat', 'Rabbit']), ('S350', ['Smith', 'Smyth', 'Smythe']), ('S235', ['Schmidt', 'Schmitz']), ('M350', ['Mohammed', 'Muhamed'])])\n",
      "Words similar to 'Mohammed':\n",
      "['Mohammed', 'Muhamed']\n"
     ]
    }
   ],
   "source": [
    "# Sample List of Words\n",
    "words = [\n",
    "    'Robert', 'Rupert', 'Rubin', 'Robby', 'Rabat', 'Rabbit',\n",
    "    'Smith', 'Smyth', 'Smythe', 'Schmidt', 'Schmitz', 'Mohammed', 'Muhamed'\n",
    "]\n",
    "\n",
    "\n",
    "\n",
    "# Build the Soundex Index\n",
    "soundex_index = build_soundex_index(words)\n",
    "print(soundex_index.items())\n",
    "\n",
    "# Find Similar-Sounding Words\n",
    "query = 'Mohammed'\n",
    "similar_words = find_similar_sounding_words(query, soundex_index)\n",
    "# Print the Results\n",
    "print(f\"Words similar to '{query}':\")\n",
    "print(similar_words)"
   ]
  },
  {
   "cell_type": "code",
   "execution_count": null,
   "id": "ce6824ac",
   "metadata": {},
   "outputs": [],
   "source": []
  }
 ],
 "metadata": {
  "kernelspec": {
   "display_name": "Python 3 (ipykernel)",
   "language": "python",
   "name": "python3"
  },
  "language_info": {
   "codemirror_mode": {
    "name": "ipython",
    "version": 3
   },
   "file_extension": ".py",
   "mimetype": "text/x-python",
   "name": "python",
   "nbconvert_exporter": "python",
   "pygments_lexer": "ipython3",
   "version": "3.10.9"
  }
 },
 "nbformat": 4,
 "nbformat_minor": 5
}
