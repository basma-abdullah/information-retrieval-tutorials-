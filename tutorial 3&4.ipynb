{
 "cells": [
  {
   "cell_type": "markdown",
   "id": "4f31684c",
   "metadata": {},
   "source": [
    "## tutorial 3  "
   ]
  },
  {
   "cell_type": "code",
   "execution_count": 1,
   "id": "50955d7a",
   "metadata": {},
   "outputs": [],
   "source": [
    "def intersect_postings_list(postings_list1, postings_list2):\n",
    "    intersected_list = []\n",
    "    i, j = 0, 0\n",
    "    \n",
    "    \n",
    "    while i < len(postings_list1) and j < len(postings_list2):\n",
    "        if postings_list1[i] == postings_list2[j]:\n",
    "            intersected_list.append(postings_list1[i])\n",
    "            i += 1\n",
    "            j += 1\n",
    "        elif postings_list1[i] < postings_list2[j]:\n",
    "            i += 1\n",
    "        else:\n",
    "            j += 1\n",
    "    return intersected_list"
   ]
  },
  {
   "cell_type": "code",
   "execution_count": 2,
   "id": "029108e0",
   "metadata": {},
   "outputs": [
    {
     "name": "stdout",
     "output_type": "stream",
     "text": [
      "Intersected List: [3, 5, 7]\n"
     ]
    }
   ],
   "source": [
    "postings_list1 = [1,3,5,7,9]\n",
    "postings_list2 = [2,3,5,6,7]\n",
    "\n",
    "\n",
    "# Intersect the postings lists\n",
    "intersected_list = intersect_postings_list(postings_list1, postings_list2)\n",
    "\n",
    "# Print the intersected list\n",
    "print(\"Intersected List:\", intersected_list)"
   ]
  },
  {
   "cell_type": "markdown",
   "id": "04d3d39e",
   "metadata": {},
   "source": [
    "## tutorial 4"
   ]
  },
  {
   "cell_type": "code",
   "execution_count": 6,
   "id": "939ebdf5",
   "metadata": {},
   "outputs": [],
   "source": [
    "def intersect_postings_list(postings_list1, postings_list2):\n",
    "    intersected_list = []\n",
    "    i, j = 0, 0\n",
    "    \n",
    "    while i < len(postings_list1) and j < len(postings_list2):\n",
    "        if postings_list1[i] == postings_list2[j]:\n",
    "            intersected_list.append(postings_list1[i])\n",
    "            i += 1\n",
    "            j += 1\n",
    "        elif postings_list1[i] < postings_list2[j]:\n",
    "            intersected_list.append(postings_list1[i])\n",
    "            i += 1\n",
    "        else:\n",
    "            intersected_list.append(postings_list2[j])\n",
    "            j += 1\n",
    "    # Append the remaining elements, if any\n",
    "    while i < len(postings_list1):\n",
    "        intersected_list.append(postings_list1[i])\n",
    "        i += 1\n",
    "        \n",
    "    while j < len(postings_list2):\n",
    "        intersected_list.append(postings_list2[j])\n",
    "        j += 1\n",
    "    \n",
    "    return intersected_list"
   ]
  },
  {
   "cell_type": "code",
   "execution_count": 7,
   "id": "39794697",
   "metadata": {},
   "outputs": [
    {
     "name": "stdout",
     "output_type": "stream",
     "text": [
      "Intersected List: [1, 2, 3, 5, 6, 7, 9]\n"
     ]
    }
   ],
   "source": [
    "postings_list1 = [1,3,5,7,9]\n",
    "postings_list2 = [2,3,5,6,7]\n",
    "\n",
    "# Intersect the postings lists\n",
    "intersected_list = intersect_postings_list(postings_list1, postings_list2)\n",
    "\n",
    "# Print the intersected list\n",
    "print(\"Intersected List:\", intersected_list)"
   ]
  },
  {
   "cell_type": "markdown",
   "id": "45ac27c2",
   "metadata": {},
   "source": [
    "## or psudocode "
   ]
  },
  {
   "cell_type": "code",
   "execution_count": null,
   "id": "d9f8dc9b",
   "metadata": {},
   "outputs": [],
   "source": [
    "Union(P1,P2)\n",
    "    answer =[]\n",
    "    while p1 != null and p2 != null\n",
    "    do if (docID(p1)=docID(p2))\n",
    "        then add(answer,docID(p1))\n",
    "            p1 = p1.next\n",
    "            p2 = p2.next\n",
    "        else if (docID(p1)<docID(p2))\n",
    "            then add(answer,docID(p1) \n",
    "                 p1 = p1.next\n",
    "        else add(answer,docID(p1)\n",
    "              p2 = p2.next\n",
    "                 \n",
    "    while(i != null)\n",
    "         add(answer,docID(p1) \n",
    "         p1 = p1.next \n",
    "             \n",
    "    while(j != null)\n",
    "         add(answer,docID(p2) \n",
    "         p2 = p2.next   \n",
    "             \n",
    "    return answer "
   ]
  }
 ],
 "metadata": {
  "kernelspec": {
   "display_name": "Python 3 (ipykernel)",
   "language": "python",
   "name": "python3"
  },
  "language_info": {
   "codemirror_mode": {
    "name": "ipython",
    "version": 3
   },
   "file_extension": ".py",
   "mimetype": "text/x-python",
   "name": "python",
   "nbconvert_exporter": "python",
   "pygments_lexer": "ipython3",
   "version": "3.10.9"
  }
 },
 "nbformat": 4,
 "nbformat_minor": 5
}
