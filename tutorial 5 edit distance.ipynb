{
 "cells": [
  {
   "cell_type": "markdown",
   "id": "2805082a",
   "metadata": {},
   "source": [
    "### define edit distance function + example "
   ]
  },
  {
   "cell_type": "code",
   "execution_count": 1,
   "id": "429f20af",
   "metadata": {},
   "outputs": [
    {
     "name": "stdout",
     "output_type": "stream",
     "text": [
      "Edit distance between 'kitten' and 'sitting': 3\n"
     ]
    }
   ],
   "source": [
    "# step 1 :Define the edit distance function \n",
    "def edit_distance(s1,s2):\n",
    "    m,n = len(s1),len(s2)\n",
    "    \n",
    "    #step 2 :initialize the edit distance matrix \n",
    "    dp = [[0 for _ in range(n+1)] for _ in range(m+1)]\n",
    "    \n",
    "    #step 3 : fill the first row and first column of the matrix \n",
    "    for i in range (m+1):\n",
    "        dp[i][0] = i\n",
    "       \n",
    "    for j in range (n+1):\n",
    "        dp[0][j]=j\n",
    "        \n",
    "    #step 4 : fill the rest of the matrix \n",
    "    for i in range (1, m+1):\n",
    "        for j in range (1, n+1):\n",
    "            if s1[i-1] == s2[j-1]:\n",
    "                dp[i][j] = dp[i-1][j-1]\n",
    "            else:\n",
    "                dp[i][j] = 1+ min(dp[i-1][j] , dp[i][j-1] , dp[i-1][j-1])\n",
    "                \n",
    "    #step 5 : return the edit distance between the two strings \n",
    "    return dp[m][n]\n",
    "\n",
    "\n",
    "#example: calculate the edit distance between kitten and sitting \n",
    "s1 = \"kitten\"\n",
    "s2 = \"sitting\"\n",
    "result = edit_distance(s1,s2)\n",
    "\n",
    "print(\"Edit distance between '{}' and '{}': {}\".format(s1,s2,result))"
   ]
  },
  {
   "cell_type": "markdown",
   "id": "a79b44cf",
   "metadata": {},
   "source": [
    "### example 1 "
   ]
  },
  {
   "cell_type": "code",
   "execution_count": 2,
   "id": "e3081361",
   "metadata": {},
   "outputs": [
    {
     "name": "stdout",
     "output_type": "stream",
     "text": [
      "input word: oragn\n",
      "closest word: orange\n"
     ]
    }
   ],
   "source": [
    "#sample vocabulary \n",
    "vocabulary = ['apple' , 'banana' , 'orange' , 'pear' , 'grape']\n",
    "\n",
    "#input word with a spelling mistake\n",
    "missspelled_word = 'oragn'\n",
    "\n",
    "#find the closet word in the vocabulary using edit sidtance\n",
    "closest_word = min(vocabulary , key=lambda word: edit_distance(missspelled_word , word))\n",
    "\n",
    "print(\"input word:\" , missspelled_word)\n",
    "print(\"closest word:\" , closest_word)"
   ]
  },
  {
   "cell_type": "markdown",
   "id": "cc93a133",
   "metadata": {},
   "source": [
    "### example 2 "
   ]
  },
  {
   "cell_type": "code",
   "execution_count": 4,
   "id": "55b037c4",
   "metadata": {},
   "outputs": [
    {
     "name": "stdout",
     "output_type": "stream",
     "text": [
      "Edit distance between the two documents 7\n"
     ]
    }
   ],
   "source": [
    "#sample document \n",
    "document1 = \"The quick brown fox jumps over the lazy dog\"\n",
    "document2 = \"The quick brown fox jumps over the sleeping dog\"\n",
    "\n",
    "#calculate the edit distance between the documents \n",
    "edit_distance_value = edit_distance(document1 , document2)\n",
    "\n",
    "print(\"Edit distance between the two documents\", edit_distance_value)"
   ]
  },
  {
   "cell_type": "code",
   "execution_count": null,
   "id": "cf20882b",
   "metadata": {},
   "outputs": [],
   "source": []
  }
 ],
 "metadata": {
  "kernelspec": {
   "display_name": "Python 3 (ipykernel)",
   "language": "python",
   "name": "python3"
  },
  "language_info": {
   "codemirror_mode": {
    "name": "ipython",
    "version": 3
   },
   "file_extension": ".py",
   "mimetype": "text/x-python",
   "name": "python",
   "nbconvert_exporter": "python",
   "pygments_lexer": "ipython3",
   "version": "3.10.9"
  }
 },
 "nbformat": 4,
 "nbformat_minor": 5
}
