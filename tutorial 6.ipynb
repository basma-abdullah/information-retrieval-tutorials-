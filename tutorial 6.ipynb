{
 "cells": [
  {
   "cell_type": "markdown",
   "id": "9b2119b0",
   "metadata": {},
   "source": [
    "### step1 : importing required libraries"
   ]
  },
  {
   "cell_type": "code",
   "execution_count": 1,
   "id": "e2a8582f",
   "metadata": {},
   "outputs": [],
   "source": [
    "from collections import defaultdict"
   ]
  },
  {
   "cell_type": "markdown",
   "id": "2e3ae469",
   "metadata": {},
   "source": [
    "### step 2 : implementing the premuterm index"
   ]
  },
  {
   "cell_type": "code",
   "execution_count": 2,
   "id": "d413cf83",
   "metadata": {},
   "outputs": [],
   "source": [
    "def generate_permuterm_index(term):\n",
    "    permuterm_index = defaultdict(list)\n",
    "    term = term + \"$\"\n",
    "    for i in range(len(term)):\n",
    "        permuterm = term[i:] + term[:i]\n",
    "        permuterm_index[permuterm].append(term)\n",
    "    return permuterm_index"
   ]
  },
  {
   "cell_type": "markdown",
   "id": "481e6a7a",
   "metadata": {},
   "source": [
    "### step 3 querying the premuterm index"
   ]
  },
  {
   "cell_type": "code",
   "execution_count": 3,
   "id": "f62debac",
   "metadata": {},
   "outputs": [],
   "source": [
    "def query_permuterm_index(query,permuterm_index):\n",
    "    matches = []\n",
    "    query = query + \"$\"\n",
    "    wildcard_pos = query.index(\"*\")\n",
    "    prefix = query[:wildcard_pos]\n",
    "    suffix = query[wildcard_pos +1:]\n",
    "    print(f'''******************\n",
    "        Query:{query}\n",
    "        prefix:{prefix}\n",
    "        suffix:{suffix}\n",
    "        ''')\n",
    "    for permuterm in permuterm_index.keys():\n",
    "        print (permuterm)\n",
    "        if permuterm.startswith(suffix):\n",
    "            matches.extend(permuterm_index[permuterm])\n",
    "    return matches"
   ]
  },
  {
   "cell_type": "markdown",
   "id": "4740703f",
   "metadata": {},
   "source": [
    "### step 4 : putting it all together"
   ]
  },
  {
   "cell_type": "code",
   "execution_count": 4,
   "id": "4772d184",
   "metadata": {},
   "outputs": [
    {
     "name": "stdout",
     "output_type": "stream",
     "text": [
      "******************\n",
      "        Query:a*ple$\n",
      "        prefix:a\n",
      "        suffix:ple$\n",
      "        \n",
      "apple$\n",
      "pple$a\n",
      "ple$ap\n",
      "le$app\n",
      "e$appl\n",
      "$apple\n",
      "banana$\n",
      "anana$b\n",
      "nana$ba\n",
      "ana$ban\n",
      "na$bana\n",
      "a$banan\n",
      "$banana\n",
      "cat$\n",
      "at$c\n",
      "t$ca\n",
      "$cat\n",
      "dog$\n",
      "og$d\n",
      "g$do\n",
      "$dog\n",
      "elephant$\n",
      "lephant$e\n",
      "ephant$el\n",
      "phant$ele\n",
      "hant$elep\n",
      "ant$eleph\n",
      "nt$elepha\n",
      "t$elephan\n",
      "$elephant\n",
      "Terms matching the query 'a*ple':\n",
      "['apple$']\n"
     ]
    }
   ],
   "source": [
    "terms = [\"apple\", \"banana\", \"cat\", \"dog\", \"elephant\"]\n",
    "permuterm_index = defaultdict(list)\n",
    "\n",
    "for term in terms:\n",
    "    permuterm_index.update(generate_permuterm_index(term))\n",
    "    \n",
    "query = \"a*ple\"\n",
    "matches = query_permuterm_index(query, permuterm_index)\n",
    "print(f\"Terms matching the query '{query}':\")\n",
    "print(matches)"
   ]
  }
 ],
 "metadata": {
  "kernelspec": {
   "display_name": "Python 3 (ipykernel)",
   "language": "python",
   "name": "python3"
  },
  "language_info": {
   "codemirror_mode": {
    "name": "ipython",
    "version": 3
   },
   "file_extension": ".py",
   "mimetype": "text/x-python",
   "name": "python",
   "nbconvert_exporter": "python",
   "pygments_lexer": "ipython3",
   "version": "3.10.9"
  }
 },
 "nbformat": 4,
 "nbformat_minor": 5
}
