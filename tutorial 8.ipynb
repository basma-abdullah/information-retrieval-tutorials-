{
 "cells": [
  {
   "cell_type": "markdown",
   "id": "225f4175",
   "metadata": {},
   "source": [
    "## Step 1: Importing Required Libraries"
   ]
  },
  {
   "cell_type": "code",
   "execution_count": 1,
   "id": "b455f523",
   "metadata": {},
   "outputs": [],
   "source": [
    "import heapq"
   ]
  },
  {
   "cell_type": "markdown",
   "id": "b0e4908e",
   "metadata": {},
   "source": [
    "## Step 2: Implementing Skip Pointers"
   ]
  },
  {
   "cell_type": "code",
   "execution_count": 2,
   "id": "33c1a7a7",
   "metadata": {},
   "outputs": [],
   "source": [
    "def create_skip_pointers(postings_list, skip_interval):\n",
    "    postings_with_skips = []\n",
    "    skip_count = 0\n",
    "    for posting in postings_list:\n",
    "        if skip_count % skip_interval == 0:\n",
    "            postings_with_skips.append((posting, skip_count))\n",
    "        skip_count += 1\n",
    "    return postings_with_skips"
   ]
  },
  {
   "cell_type": "markdown",
   "id": "eff82221",
   "metadata": {},
   "source": [
    "## Step 3: Merging Postings Lists with Skip Pointers"
   ]
  },
  {
   "cell_type": "code",
   "execution_count": 3,
   "id": "29ebf39c",
   "metadata": {},
   "outputs": [],
   "source": [
    "def merge_postings_lists_with_skips(postings_lists):\n",
    "    merged_list = []\n",
    "    heap = []\n",
    "    # Initialize the heap with the first element from each postings list\n",
    "    for i, postings_list in enumerate(postings_lists):\n",
    "        if postings_list:\n",
    "            heapq.heappush(heap, (postings_list[0][0], i))\n",
    "    # Merge the postings lists\n",
    "    while heap:\n",
    "        current_posting, list_index = heapq.heappop(heap)\n",
    "        merged_list.append(current_posting)\n",
    "        \n",
    "        if len(postings_lists[list_index]) > 1:\n",
    "            next_posting, skip = postings_lists[list_index][1]\n",
    "            postings_lists[list_index] = postings_lists[list_index][1:]\n",
    "        \n",
    "            # Check if skip pointer can be used\n",
    "            if skip is not None and len(postings_lists[list_index]) >1 and postings_lists[list_index][0][1] < skip:\n",
    "                heapq.heappush(heap, (next_posting, list_index))\n",
    "        \n",
    "        # Push the next posting from the current list\n",
    "        elif postings_lists[list_index]:\n",
    "            heapq.heappush(heap, (postings_lists[list_index][0][0], list_index))\n",
    "            \n",
    "    return merged_list"
   ]
  },
  {
   "cell_type": "markdown",
   "id": "c3771e93",
   "metadata": {},
   "source": [
    "## Step 4: Putting it All Together"
   ]
  },
  {
   "cell_type": "code",
   "execution_count": 5,
   "id": "36ad5c01",
   "metadata": {},
   "outputs": [
    {
     "name": "stdout",
     "output_type": "stream",
     "text": [
      "Merged Postings List: [1, 2, 6]\n"
     ]
    }
   ],
   "source": [
    "# Sample Postings Lists with Skip Pointers\n",
    "postings_list_1 = create_skip_pointers([1, 4, 7, 8, 10, 12, 14, 18, 20], 3)\n",
    "postings_list_2 = create_skip_pointers([2, 3, 5, 9, 11, 13, 16, 19], 2)\n",
    "postings_list_3 = create_skip_pointers([6, 15, 17], 1)\n",
    "\n",
    "# Merge Postings Lists with Skip Pointers\n",
    "merged_list = merge_postings_lists_with_skips([postings_list_1, postings_list_2, postings_list_3])\n",
    "\n",
    "# Print the Merged Postings List\n",
    "print(\"Merged Postings List:\", merged_list)\n"
   ]
  },
  {
   "cell_type": "code",
   "execution_count": null,
   "id": "96b67bfe",
   "metadata": {},
   "outputs": [],
   "source": []
  }
 ],
 "metadata": {
  "kernelspec": {
   "display_name": "Python 3 (ipykernel)",
   "language": "python",
   "name": "python3"
  },
  "language_info": {
   "codemirror_mode": {
    "name": "ipython",
    "version": 3
   },
   "file_extension": ".py",
   "mimetype": "text/x-python",
   "name": "python",
   "nbconvert_exporter": "python",
   "pygments_lexer": "ipython3",
   "version": "3.10.9"
  }
 },
 "nbformat": 4,
 "nbformat_minor": 5
}
